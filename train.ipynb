{
 "cells": [
  {
   "cell_type": "code",
   "execution_count": 1,
   "metadata": {},
   "outputs": [],
   "source": [
    "import librosa\n",
    "import numpy as np\n",
    "from sklearn.model_selection import train_test_split\n",
    "from sklearn.svm import SVC\n",
    "from sklearn.metrics import accuracy_score\n",
    "import os\n",
    "import joblib"
   ]
  },
  {
   "cell_type": "code",
   "execution_count": 2,
   "metadata": {},
   "outputs": [],
   "source": [
    "# Function to extract MFCC features from audio\n",
    "def extract_features(file_path):\n",
    "    y, sr = librosa.load(file_path, duration=3.0)  # Load 3 seconds\n",
    "    mfccs = librosa.feature.mfcc(y=y, sr=sr, n_mfcc=13)  # 13 MFCCs\n",
    "    return np.mean(mfccs, axis=1)  # Average over time\n",
    "\n",
    "# Load dataset\n",
    "data_dir = \"data/\"\n",
    "instruments = [\"Guitar\", \"Piano\", \"Drums\", \"Violin\", \"Flute\"]\n",
    "X, y = [], []"
   ]
  },
  {
   "cell_type": "code",
   "execution_count": null,
   "metadata": {},
   "outputs": [],
   "source": [
    "print(\"Loading dataset...\")\n",
    "for instrument in instruments:\n",
    "    folder = f\"{data_dir}/{instrument}\"\n",
    "    if not os.path.exists(folder):\n",
    "        print(f\"Warning: {folder} not found. Skipping.\")\n",
    "        continue\n",
    "    for file in os.listdir(folder):\n",
    "        if file.endswith(\".wav\"):\n",
    "            file_path = f\"{folder}/{file}\"\n",
    "            try:\n",
    "                features = extract_features(file_path)\n",
    "                X.append(features)\n",
    "                y.append(instrument)\n",
    "                print(f\"Loaded: {file_path}\")\n",
    "            except Exception as e:\n",
    "                print(f\"Error loading {file_path}: {e}\")\n",
    "\n",
    "X = np.array(X)\n",
    "y = np.array(y)\n",
    "\n",
    "if len(X) == 0:\n",
    "    raise ValueError(\"No audio files loaded. Check your data folder.\")"
   ]
  },
  {
   "cell_type": "code",
   "execution_count": 4,
   "metadata": {},
   "outputs": [],
   "source": [
    "# Split dataset\n",
    "X_train, X_test, y_train, y_test = train_test_split(X, y, test_size=0.2, random_state=40)"
   ]
  },
  {
   "cell_type": "code",
   "execution_count": null,
   "metadata": {},
   "outputs": [],
   "source": [
    "# Train model\n",
    "print(\"Training model...\")\n",
    "model = SVC(kernel='linear', probability=True)  # Linear SVM with probabilities\n",
    "model.fit(X_train, y_train)"
   ]
  },
  {
   "cell_type": "code",
   "execution_count": null,
   "metadata": {},
   "outputs": [],
   "source": [
    "from sklearn.neural_network import MLPClassifier\n",
    "model2 = MLPClassifier(hidden_layer_sizes=(80, 30), max_iter=500, random_state=42)\n",
    "model2.fit(X_train, y_train)"
   ]
  },
  {
   "cell_type": "code",
   "execution_count": 38,
   "metadata": {},
   "outputs": [
    {
     "name": "stdout",
     "output_type": "stream",
     "text": [
      "Test Accuracy1: 82.61%\n"
     ]
    }
   ],
   "source": [
    "# Evaluate\n",
    "y_pred = model.predict(X_test)\n",
    "accuracy = accuracy_score(y_test, y_pred)\n",
    "print(f\"Test Accuracy1: {accuracy * 100:.2f}%\")"
   ]
  },
  {
   "cell_type": "code",
   "execution_count": 44,
   "metadata": {},
   "outputs": [
    {
     "name": "stdout",
     "output_type": "stream",
     "text": [
      "Test Accuracy2: 91.30%\n"
     ]
    }
   ],
   "source": [
    "# Evaluate\n",
    "y_pred = model2.predict(X_test)\n",
    "accuracy = accuracy_score(y_test, y_pred)\n",
    "print(f\"Test Accuracy2: {accuracy * 100:.2f}%\")"
   ]
  },
  {
   "cell_type": "code",
   "execution_count": null,
   "metadata": {},
   "outputs": [],
   "source": [
    "# Save models\n",
    "joblib.dump(model, \"instrument_model.pkl\")\n",
    "print(\"Model saved as instrument_model.pkl\")\n",
    "joblib.dump(model2, \"instrument_model2.pkl\")\n",
    "print(\"Model saved as instrument_model2.pkl\")"
   ]
  },
  {
   "cell_type": "code",
   "execution_count": 48,
   "metadata": {},
   "outputs": [],
   "source": [
    "# Prediction function\n",
    "def predict_instrument(file_path):\n",
    "    features = extract_features(file_path)\n",
    "    pred = model.predict([features])[0] # use model if you want SVC and use model2 if you want MLP\n",
    "    probs = model.predict_proba([features])[0] # use model if you want SVC and use model2 if you want MLP\n",
    "    confidence = max(probs)\n",
    "    return pred, confidence"
   ]
  },
  {
   "cell_type": "code",
   "execution_count": 52,
   "metadata": {},
   "outputs": [
    {
     "name": "stdout",
     "output_type": "stream",
     "text": [
      "Predicted: Piano (Confidence: 0.74)\n"
     ]
    }
   ],
   "source": [
    "# Test prediction\n",
    "test_file = \"data/tests/test10.wav\"  # Replace with a real file\n",
    "if os.path.exists(test_file):\n",
    "    instrument, confidence = predict_instrument(test_file)\n",
    "    print(f\"Predicted: {instrument} (Confidence: {confidence:.2f})\")\n",
    "else:\n",
    "    print(f\"Test file {test_file} not found. Add a sample to test.\")"
   ]
  }
 ],
 "metadata": {
  "kernelspec": {
   "display_name": "Python 3",
   "language": "python",
   "name": "python3"
  },
  "language_info": {
   "codemirror_mode": {
    "name": "ipython",
    "version": 3
   },
   "file_extension": ".py",
   "mimetype": "text/x-python",
   "name": "python",
   "nbconvert_exporter": "python",
   "pygments_lexer": "ipython3",
   "version": "3.9.0"
  }
 },
 "nbformat": 4,
 "nbformat_minor": 2
}
